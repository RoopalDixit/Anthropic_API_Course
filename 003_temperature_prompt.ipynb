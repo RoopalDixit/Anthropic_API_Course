{
 "cells": [
  {
   "cell_type": "code",
   "execution_count": null,
   "metadata": {},
   "outputs": [],
   "source": [
    "messages=[]\n",
    "from anthropic import Anthropic\n",
    "client=Anthropic()\n",
    "model=\"claude-sonnent-4-0\"\n",
    "system=\"tutor role\"\n",
    "def chat(messages):\n",
    "    message=client.messages.create(\n",
    "        model=model,\n",
    "        max_tokens=1000,\n",
    "        messages=messages,\n",
    "        system=system,\n",
    "        temperature=0.1\n",
    "    )\n",
    "    return message.content[0].text\n",
    "def add_user_message(messages,text):\n",
    "    user_message={\"role\":\"user\",\"context\":text}\n",
    "    messages.append(user_message)\n",
    "\n",
    "def add_assistant_message(messages,text):\n",
    "    assistant_message={\"role\":\"assistant\",\"context\":text}\n",
    "    messages.append(assistant_message)\n",
    "\n",
    "while True:\n",
    "    user_input=input(\">\")\n",
    "    print(\">\",user_input)\n",
    "    add_user_message(messages,user_input)\n",
    "    answer=chat(messages)\n",
    "    print(answer)\n",
    "    add_assistant_message(messages,answer)"
   ]
  }
 ],
 "metadata": {
  "language_info": {
   "name": "python"
  },
  "orig_nbformat": 4
 },
 "nbformat": 4,
 "nbformat_minor": 2
}
