{
 "cells": [
  {
   "cell_type": "code",
   "execution_count": null,
   "metadata": {},
   "outputs": [],
   "source": [
    "messages=[]\n",
    "from anthropic import Anthropic\n",
    "client=Anthropic()\n",
    "model=\"claude-sonnent-4-0\"\n",
    "\n",
    "def chat(messages):\n",
    "    system=\"\"\"\n",
    "You are a patient math tutor. Give step bys tep approach\"\"\"\n",
    "    message=client.messages.create(\n",
    "        model=model,\n",
    "        max_tokens=1000,\n",
    "        messages=messages,\n",
    "        system=system\n",
    "    )\n",
    "    return message.content[0].text\n",
    "def add_user_message(messages,text):\n",
    "    user_message={\"role\":\"user\",\"context\":text}\n",
    "    messages.append(user_message)\n",
    "\n",
    "def add_assistant_message(messages,text):\n",
    "    assistant_message={\"role\":\"assistant\",\"context\":text}\n",
    "    messages.append(assistant_message)\n",
    "\n",
    "while True:\n",
    "    user_input=input(\">\")\n",
    "    print(\">\",user_input)\n",
    "    add_user_message(messages,user_input)\n",
    "    answer=chat(messages)\n",
    "    print(answer)\n",
    "    add_assistant_message(messages,answer)"
   ]
  }
 ],
 "metadata": {
  "kernelspec": {
   "display_name": "Python 3",
   "language": "python",
   "name": "python3"
  },
  "language_info": {
   "name": "python",
   "version": "3.9.6"
  },
  "orig_nbformat": 4
 },
 "nbformat": 4,
 "nbformat_minor": 2
}
